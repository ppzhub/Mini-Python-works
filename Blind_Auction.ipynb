{
  "nbformat": 4,
  "nbformat_minor": 0,
  "metadata": {
    "colab": {
      "provenance": []
    },
    "kernelspec": {
      "name": "python3",
      "display_name": "Python 3"
    },
    "language_info": {
      "name": "python"
    }
  },
  "cells": [
    {
      "cell_type": "code",
      "execution_count": 5,
      "metadata": {
        "colab": {
          "base_uri": "https://localhost:8080/"
        },
        "id": "AwnKplEEX08y",
        "outputId": "497ed041-db8e-4d77-cba4-01fe64281679"
      },
      "outputs": [
        {
          "output_type": "stream",
          "name": "stdout",
          "text": [
            "What is your name?: oo\n",
            "What is your bid?: $56\n",
            "Are there any other bidders? Type 'yes or 'no'.\n",
            "yes\n",
            "Nest Customer\n",
            "What is your name?: pp\n",
            "What is your bid?: $90\n",
            "Are there any other bidders? Type 'yes or 'no'.\n",
            "no\n",
            "The winner is pp with a bid of $90\n"
          ]
        }
      ],
      "source": [
        "bids = {}\n",
        "bidding_finished = False\n",
        "\n",
        "\n",
        "def find_highest_bidder(bidding_record):\n",
        "  highest_bid = 0\n",
        "  winner = \"\"\n",
        "  # bidding_record = {\"Angela\": 123, \"James\": 321}\n",
        "  for bidder in bidding_record:\n",
        "    bid_amount = bidding_record[bidder]\n",
        "    if bid_amount > highest_bid:\n",
        "      highest_bid = bid_amount\n",
        "      winner = bidder\n",
        "  print(f\"The winner is {winner} with a bid of ${highest_bid}\")\n",
        "\n",
        "\n",
        "while not bidding_finished:\n",
        "  name = input(\"What is your name?: \")\n",
        "  price = int(input(\"What is your bid?: $\"))\n",
        "  bids[name] = price\n",
        "  should_continue = input(\"Are there any other bidders? Type 'yes or 'no'.\\n\")\n",
        "  if should_continue == \"no\":\n",
        "    bidding_finished = True\n",
        "    find_highest_bidder(bids)\n",
        "  elif should_continue == \"yes\":\n",
        "    print(\"Nest Customer\")\n",
        ""
      ]
    },
    {
      "cell_type": "code",
      "source": [],
      "metadata": {
        "id": "k_SslJaiX68A"
      },
      "execution_count": null,
      "outputs": []
    }
  ]
}